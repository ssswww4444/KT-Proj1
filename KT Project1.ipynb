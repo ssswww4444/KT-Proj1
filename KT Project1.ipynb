{
 "cells": [
  {
   "cell_type": "markdown",
   "metadata": {},
   "source": [
    "# 1. Import modules & Read files"
   ]
  },
  {
   "cell_type": "markdown",
   "metadata": {},
   "source": [
    "Import required modules."
   ]
  },
  {
   "cell_type": "code",
   "execution_count": 69,
   "metadata": {},
   "outputs": [],
   "source": [
    "import re\n",
    "import numpy as np\n",
    "import Levenshtein as levenshtein\n",
    "import json\n",
    "from sklearn.model_selection import train_test_split\n",
    "import jellyfish"
   ]
  },
  {
   "cell_type": "markdown",
   "metadata": {},
   "source": [
    "Define a function to read the files."
   ]
  },
  {
   "cell_type": "code",
   "execution_count": 58,
   "metadata": {},
   "outputs": [],
   "source": [
    "def readfile(filename):\n",
    "    f = open(filename, \"r\")\n",
    "    lines = f.readlines()\n",
    "    ls = []\n",
    "    for line in lines:\n",
    "        ls.append(line.strip())\n",
    "    f.close()\n",
    "    return ls"
   ]
  },
  {
   "cell_type": "markdown",
   "metadata": {},
   "source": [
    "Read dicitonary and wiki dataset and store as variables."
   ]
  },
  {
   "cell_type": "code",
   "execution_count": 59,
   "metadata": {},
   "outputs": [],
   "source": [
    "dict_ls = readfile(\"dict.txt\")\n",
    "correct_ls = readfile(\"wiki_correct.txt\")\n",
    "misspell_ls = readfile(\"wiki_misspell.txt\")"
   ]
  },
  {
   "cell_type": "markdown",
   "metadata": {},
   "source": [
    "# 2. Evaluation Metrics"
   ]
  },
  {
   "cell_type": "markdown",
   "metadata": {},
   "source": [
    "Define a function to evaluate the spelling correction results. (Precision & Recall & F-Score)"
   ]
  },
  {
   "cell_type": "code",
   "execution_count": 60,
   "metadata": {},
   "outputs": [],
   "source": [
    "def wiki_eval(result_dict, curr_misspell_ls, curr_correct_ls):\n",
    "    tp = 0\n",
    "    fp = 0\n",
    "    fn = 0\n",
    "\n",
    "    for i in range(len(curr_misspell_ls)):\n",
    "        word = curr_misspell_ls[i]\n",
    "        true_word = curr_correct_ls[i]\n",
    "        if true_word in result_dict[word]:\n",
    "            tp += 1\n",
    "            fp += len(result_dict[word]) - 1\n",
    "        else:\n",
    "            fn += 1 # miss\n",
    "            fp += len(result_dict[word])\n",
    "            \n",
    "    precision = tp*1.0 / (tp + fp)\n",
    "    recall = tp*1.0 / (tp + fn)\n",
    "    fscore = 2*(precision*recall)/(precision + recall)\n",
    "\n",
    "    return precision,recall,fscore"
   ]
  },
  {
   "cell_type": "markdown",
   "metadata": {},
   "source": [
    "# 3. Baseline method: Levenshtein Distance (LD)\n",
    "## 3.1. Run with the whole Wikipedia Dataset (4453 tokens)"
   ]
  },
  {
   "cell_type": "markdown",
   "metadata": {},
   "source": [
    "Define a function to find the best matches for the misspelled words according to the levenshtein distance."
   ]
  },
  {
   "cell_type": "code",
   "execution_count": 61,
   "metadata": {},
   "outputs": [],
   "source": [
    "def best_match_LD(target):\n",
    "    # init best match as first entry of the dict\n",
    "    min_dist = levenshtein.distance(target,dict_ls[0])\n",
    "    best_matches = [dict_ls[0]]\n",
    "    \n",
    "    for word in dict_ls[1:]:\n",
    "        if abs(len(word) - len(target)) > min_dist:  # not possible to be min_dist, skip\n",
    "            continue\n",
    "        dist = levenshtein.distance(target,word)  # cal global edit distance\n",
    "        # replace if shorter distance\n",
    "        if dist < min_dist:\n",
    "            min_dist = dist\n",
    "            best_matches = [word]\n",
    "        elif dist == min_dist:\n",
    "            best_matches.append(word)\n",
    "    \n",
    "    return best_matches"
   ]
  },
  {
   "cell_type": "markdown",
   "metadata": {},
   "source": [
    "Find the best matches for the words in wiki data sets according to levenshtein."
   ]
  },
  {
   "cell_type": "code",
   "execution_count": null,
   "metadata": {},
   "outputs": [],
   "source": [
    "LD_correction_dict = {}\n",
    "for word in wiki_misspell_ls:\n",
    "    if word not in LD_correction_dict: # avoid repeated word\n",
    "        LD_correction_dict[word] = best_match_LD(word)"
   ]
  },
  {
   "cell_type": "markdown",
   "metadata": {},
   "source": [
    "Save the correction results to json file."
   ]
  },
  {
   "cell_type": "code",
   "execution_count": null,
   "metadata": {},
   "outputs": [],
   "source": [
    "with open('levenshtein_correction.json', 'w') as fp:\n",
    "    json.dump(LD_correction_dict, fp)\n",
    "    fp.close()"
   ]
  },
  {
   "cell_type": "markdown",
   "metadata": {},
   "source": [
    "Load the results from json file if required.|"
   ]
  },
  {
   "cell_type": "code",
   "execution_count": 62,
   "metadata": {},
   "outputs": [],
   "source": [
    "with open('levenshtein_correction.json', 'r') as fp:\n",
    "    LD_correction_dict = json.load(fp) \n",
    "    fp.close()"
   ]
  },
  {
   "cell_type": "markdown",
   "metadata": {},
   "source": [
    "Precision, recall, and F-score for Levenshtein (baseline)"
   ]
  },
  {
   "cell_type": "code",
   "execution_count": 63,
   "metadata": {},
   "outputs": [
    {
     "name": "stdout",
     "output_type": "stream",
     "text": [
      "Evaluation Metrics (Levenshtein Distance, 100% Data)\n",
      "---------------------------------------------------\n",
      "Precision: 0.260432080497\n",
      "Recall: 0.790478329216\n",
      "F-score: 0.391785853414\n"
     ]
    }
   ],
   "source": [
    "(precision, recall, fscore) = wiki_eval(LD_correction_dict, misspell_ls, correct_ls)\n",
    "print \"Evaluation Metrics (Levenshtein Distance, 100% Data)\"\n",
    "print \"---------------------------------------------------\"\n",
    "print \"Precision: \" + str(precision)\n",
    "print \"Recall: \" + str(recall)\n",
    "print \"F-score: \" + str(fscore)"
   ]
  },
  {
   "cell_type": "markdown",
   "metadata": {},
   "source": [
    "## 3.2. Run with only 20% of the Wikipedia Dataset"
   ]
  },
  {
   "cell_type": "markdown",
   "metadata": {},
   "source": [
    "### 3.2.1. Randomly extract 20% of the Wikipedia Dataset as a subset"
   ]
  },
  {
   "cell_type": "markdown",
   "metadata": {},
   "source": [
    "Randomly extract the subset with \"train_test_split\" function."
   ]
  },
  {
   "cell_type": "code",
   "execution_count": 46,
   "metadata": {},
   "outputs": [],
   "source": [
    "misspell_subset, misspell_left, correct_subset, correct_left = train_test_split(misspell_ls, \n",
    "                                                                                correct_ls,\n",
    "                                                                                train_size = 0.2,\n",
    "                                                                                test_size = 0.8,\n",
    "                                                                                shuffle = True)"
   ]
  },
  {
   "cell_type": "markdown",
   "metadata": {},
   "source": [
    "Combine two subsets into a single list."
   ]
  },
  {
   "cell_type": "code",
   "execution_count": 47,
   "metadata": {},
   "outputs": [],
   "source": [
    "combined_subset = [(misspell_subset), (correct_subset)]"
   ]
  },
  {
   "cell_type": "markdown",
   "metadata": {},
   "source": [
    "Save the combined subset to numpy file."
   ]
  },
  {
   "cell_type": "code",
   "execution_count": 48,
   "metadata": {},
   "outputs": [],
   "source": [
    "# Save\n",
    "np.save('combined_subset.npy', combined_subset) "
   ]
  },
  {
   "cell_type": "markdown",
   "metadata": {},
   "source": [
    "Load the combined subset from numpy file and store as variables if required."
   ]
  },
  {
   "cell_type": "code",
   "execution_count": 67,
   "metadata": {},
   "outputs": [],
   "source": [
    "# Load\n",
    "combined_subset = np.load('combined_subset.npy')\n",
    "\n",
    "# store as variables\n",
    "misspell_subset = combined_subset[0]\n",
    "correct_subset = combined_subset[1]"
   ]
  },
  {
   "cell_type": "markdown",
   "metadata": {},
   "source": [
    "### 3.2.2. Run Levenshtein with the data subset"
   ]
  },
  {
   "cell_type": "markdown",
   "metadata": {},
   "source": [
    "Find the best matches for the words in data subset according to Levenshtein."
   ]
  },
  {
   "cell_type": "code",
   "execution_count": 50,
   "metadata": {},
   "outputs": [],
   "source": [
    "LD_subcorrection_dict = {}\n",
    "for word in misspell_subset:\n",
    "    if word not in LD_subcorrection_dict: # avoid repeated word\n",
    "        LD_subcorrection_dict[word] = best_match_LD(word)"
   ]
  },
  {
   "cell_type": "markdown",
   "metadata": {},
   "source": [
    "Save the correction results."
   ]
  },
  {
   "cell_type": "code",
   "execution_count": 51,
   "metadata": {},
   "outputs": [],
   "source": [
    "# Save\n",
    "np.save('subset_levenshtein_results.npy', LD_subcorrection_dict)"
   ]
  },
  {
   "cell_type": "code",
   "execution_count": 65,
   "metadata": {},
   "outputs": [],
   "source": [
    "# Load\n",
    "LD_subcorrection_dict = np.load('subset_levenshtein_results.npy').item()"
   ]
  },
  {
   "cell_type": "markdown",
   "metadata": {},
   "source": [
    "Precision, recall, and F-score for Levenshtein (baseline)"
   ]
  },
  {
   "cell_type": "code",
   "execution_count": 68,
   "metadata": {
    "scrolled": true
   },
   "outputs": [
    {
     "name": "stdout",
     "output_type": "stream",
     "text": [
      "Evaluation Metrics (Levenshtein Distance, 20% Data)\n",
      "---------------------------------------------------\n",
      "Precision: 0.269969278034\n",
      "Recall: 0.789887640449\n",
      "F-score: 0.402404121351\n"
     ]
    }
   ],
   "source": [
    "(precision, recall, fscore) = wiki_eval(LD_subcorrection_dict, misspell_subset, correct_subset)\n",
    "print \"Evaluation Metrics (Levenshtein Distance, 20% Data)\"\n",
    "print \"---------------------------------------------------\"\n",
    "print \"Precision: \" + str(precision)\n",
    "print \"Recall: \" + str(recall)\n",
    "print \"F-score: \" + str(fscore)"
   ]
  },
  {
   "cell_type": "markdown",
   "metadata": {},
   "source": [
    "# 4. Damerau-Levenshtein Distance (DLD)"
   ]
  },
  {
   "cell_type": "markdown",
   "metadata": {},
   "source": [
    "Define a function to find the best matches of the misspelled words with DLD."
   ]
  },
  {
   "cell_type": "code",
   "execution_count": 71,
   "metadata": {},
   "outputs": [],
   "source": [
    "def best_match_DLD(target):\n",
    "    # init best match as first entry of the dict\n",
    "    min_dist = jellyfish.damerau_levenshtein_distance(unicode(target,\"utf-8\"),unicode(dict_ls[0],\"utf-8\"))\n",
    "    best_matches = [dict_ls[0]]\n",
    "    \n",
    "    for word in dict_ls[1:]:\n",
    "        if abs(len(word) - len(target)) > min_dist:  # not possible to be min_dist, skip\n",
    "            continue\n",
    "        dist = jellyfish.damerau_levenshtein_distance(unicode(target,\"utf-8\"),unicode(word,\"utf-8\"))  # cal DLD\n",
    "        # replace if shorter distance\n",
    "        if dist < min_dist:\n",
    "            min_dist = dist\n",
    "            best_matches = [word]\n",
    "        elif dist == min_dist:\n",
    "            best_matches.append(word)\n",
    "\n",
    "    return best_matches"
   ]
  },
  {
   "cell_type": "markdown",
   "metadata": {},
   "source": [
    "Find the best matches for the wiki misspelled words according to DLD."
   ]
  },
  {
   "cell_type": "code",
   "execution_count": 72,
   "metadata": {},
   "outputs": [],
   "source": [
    "DLD_correction_dict = {}\n",
    "for word in misspell_subset:\n",
    "    if word not in DLD_correction_dict: # avoid repeated word\n",
    "        DLD_correction_dict[word] = best_match_DLD(word)"
   ]
  },
  {
   "cell_type": "markdown",
   "metadata": {},
   "source": [
    "Evaluate the results of DLD."
   ]
  },
  {
   "cell_type": "code",
   "execution_count": 73,
   "metadata": {},
   "outputs": [],
   "source": [
    "# Save\n",
    "np.save('DLD_results.npy', DLD_correction_dict)"
   ]
  },
  {
   "cell_type": "code",
   "execution_count": 74,
   "metadata": {},
   "outputs": [],
   "source": [
    "# Load\n",
    "DLD_correction_dict = np.load('DLD_results.npy').item()"
   ]
  },
  {
   "cell_type": "markdown",
   "metadata": {},
   "source": [
    "Precision, recall, and F-score for DLD"
   ]
  },
  {
   "cell_type": "code",
   "execution_count": 75,
   "metadata": {},
   "outputs": [
    {
     "name": "stdout",
     "output_type": "stream",
     "text": [
      "Evaluation Metrics (Damerau-Levenshtein Distance, 20% Data)\n",
      "---------------------------------------------------\n",
      "Precision: 0.342176258993\n",
      "Recall: 0.855056179775\n",
      "F-score: 0.488760436737\n"
     ]
    }
   ],
   "source": [
    "(precision, recall, fscore) = wiki_eval(DLD_correction_dict, misspell_subset, correct_subset)\n",
    "print \"Evaluation Metrics (Damerau-Levenshtein Distance, 20% Data)\"\n",
    "print \"---------------------------------------------------\"\n",
    "print \"Precision: \" + str(precision)\n",
    "print \"Recall: \" + str(recall)\n",
    "print \"F-score: \" + str(fscore)"
   ]
  },
  {
   "cell_type": "markdown",
   "metadata": {},
   "source": [
    "Precision, recall, and F-score for Levenshtein (baseline)"
   ]
  },
  {
   "cell_type": "markdown",
   "metadata": {},
   "source": [
    "GED implementation with customized parameter set"
   ]
  },
  {
   "cell_type": "code",
   "execution_count": 57,
   "metadata": {},
   "outputs": [],
   "source": [
    "# transform s1 (columns) to s2 (rows)\n",
    "def edit_distance(s1,s2, params):\n",
    "    (m,i,d,r) = params\n",
    "    \n",
    "    # init matrix\n",
    "    s1_len = len(s1)\n",
    "    s2_len = len(s2)\n",
    "    A = np.zeros((s2_len+1,s1_len+1))\n",
    "    A[0][0] = 0\n",
    "    for j in range(1, s2_len+1):\n",
    "        A[j][0] = j*i;  # insert\n",
    "    for k in range(1, s1_len+1):\n",
    "        A[0][k] = k*d;  # delete\n",
    "        \n",
    "    # filling in table\n",
    "    for j in range(1,s2_len+1):\n",
    "        for k in range(1,s1_len+1):\n",
    "            A[j][k] = max(A[j][k-1] + d,  # delete\n",
    "                          A[j-1][k] + i,  # insert\n",
    "                          A[j-1][k-1] + equal(s1[k-1],s2[j-1],m,r))  # match/replace\n",
    "    return A[s2_len,s1_len]\n",
    "    \n",
    "def equal(ch1,ch2,cost1,cost2):\n",
    "    if ch1 == ch2:\n",
    "        return cost1\n",
    "    else:\n",
    "        return cost2"
   ]
  },
  {
   "cell_type": "markdown",
   "metadata": {},
   "source": [
    "Testing implementation"
   ]
  },
  {
   "cell_type": "code",
   "execution_count": 58,
   "metadata": {
    "scrolled": true
   },
   "outputs": [
    {
     "data": {
      "text/plain": [
       "-1.0"
      ]
     },
     "execution_count": 58,
     "metadata": {},
     "output_type": "execute_result"
    }
   ],
   "source": [
    "edit_distance(\"crat\",\"arts\",(1,-1,-1,-1))"
   ]
  },
  {
   "cell_type": "markdown",
   "metadata": {},
   "source": [
    "## 4.1. Parameter set ()"
   ]
  },
  {
   "cell_type": "code",
   "execution_count": null,
   "metadata": {},
   "outputs": [],
   "source": [
    "import random"
   ]
  },
  {
   "cell_type": "code",
   "execution_count": 1,
   "metadata": {},
   "outputs": [],
   "source": [
    "import jellyfish"
   ]
  },
  {
   "cell_type": "code",
   "execution_count": 8,
   "metadata": {},
   "outputs": [
    {
     "data": {
      "text/plain": [
       "'T200'"
      ]
     },
     "execution_count": 8,
     "metadata": {},
     "output_type": "execute_result"
    }
   ],
   "source": [
    "word = \"this\"\n",
    "jellyfish.soundex(unicode(word,\"utf-8\"))"
   ]
  },
  {
   "cell_type": "code",
   "execution_count": 17,
   "metadata": {},
   "outputs": [],
   "source": [
    "indices = np.random.choice(len(misspell_ls), 1000, replace=False)\n",
    "subset_1 = []\n",
    "subset_2 = []\n",
    "for i in indices:\n",
    "    subset_1.append(misspell_ls[i])\n",
    "    subset_2.append(correct_ls[i])"
   ]
  },
  {
   "cell_type": "markdown",
   "metadata": {},
   "source": [
    "# 5. N-Gram Distance"
   ]
  },
  {
   "cell_type": "code",
   "execution_count": 53,
   "metadata": {},
   "outputs": [
    {
     "ename": "TypeError",
     "evalue": "super() takes at least 1 argument (0 given)",
     "output_type": "error",
     "traceback": [
      "\u001b[0;31m---------------------------------------------------------------------------\u001b[0m",
      "\u001b[0;31mTypeError\u001b[0m                                 Traceback (most recent call last)",
      "\u001b[0;32m<ipython-input-53-0f5ddfa9945a>\u001b[0m in \u001b[0;36m<module>\u001b[0;34m()\u001b[0m\n\u001b[1;32m      1\u001b[0m \u001b[0;32mfrom\u001b[0m \u001b[0msimilarity\u001b[0m\u001b[0;34m.\u001b[0m\u001b[0mqgram\u001b[0m \u001b[0;32mimport\u001b[0m \u001b[0mQGram\u001b[0m\u001b[0;34m\u001b[0m\u001b[0m\n\u001b[1;32m      2\u001b[0m \u001b[0;34m\u001b[0m\u001b[0m\n\u001b[0;32m----> 3\u001b[0;31m \u001b[0mqgram\u001b[0m \u001b[0;34m=\u001b[0m \u001b[0mQGram\u001b[0m\u001b[0;34m(\u001b[0m\u001b[0;36m1\u001b[0m\u001b[0;34m)\u001b[0m\u001b[0;34m\u001b[0m\u001b[0m\n\u001b[0m\u001b[1;32m      4\u001b[0m \u001b[0;32mprint\u001b[0m\u001b[0;34m(\u001b[0m\u001b[0mqgram\u001b[0m\u001b[0;34m.\u001b[0m\u001b[0mdistance\u001b[0m\u001b[0;34m(\u001b[0m\u001b[0;34m'ABCD'\u001b[0m\u001b[0;34m,\u001b[0m \u001b[0;34m'ABCE'\u001b[0m\u001b[0;34m)\u001b[0m\u001b[0;34m)\u001b[0m\u001b[0;34m\u001b[0m\u001b[0m\n",
      "\u001b[0;32m/Users/peiyuns/anaconda2/lib/python2.7/site-packages/similarity/qgram.pyc\u001b[0m in \u001b[0;36m__init__\u001b[0;34m(self, k)\u001b[0m\n\u001b[1;32m     26\u001b[0m \u001b[0;34m\u001b[0m\u001b[0m\n\u001b[1;32m     27\u001b[0m     \u001b[0;32mdef\u001b[0m \u001b[0m__init__\u001b[0m\u001b[0;34m(\u001b[0m\u001b[0mself\u001b[0m\u001b[0;34m,\u001b[0m \u001b[0mk\u001b[0m\u001b[0;34m=\u001b[0m\u001b[0;36m3\u001b[0m\u001b[0;34m)\u001b[0m\u001b[0;34m:\u001b[0m\u001b[0;34m\u001b[0m\u001b[0m\n\u001b[0;32m---> 28\u001b[0;31m         \u001b[0msuper\u001b[0m\u001b[0;34m(\u001b[0m\u001b[0;34m)\u001b[0m\u001b[0;34m.\u001b[0m\u001b[0m__init__\u001b[0m\u001b[0;34m(\u001b[0m\u001b[0mk\u001b[0m\u001b[0;34m)\u001b[0m\u001b[0;34m\u001b[0m\u001b[0m\n\u001b[0m\u001b[1;32m     29\u001b[0m \u001b[0;34m\u001b[0m\u001b[0m\n\u001b[1;32m     30\u001b[0m     \u001b[0;32mdef\u001b[0m \u001b[0mdistance\u001b[0m\u001b[0;34m(\u001b[0m\u001b[0mself\u001b[0m\u001b[0;34m,\u001b[0m \u001b[0ms0\u001b[0m\u001b[0;34m,\u001b[0m \u001b[0ms1\u001b[0m\u001b[0;34m)\u001b[0m\u001b[0;34m:\u001b[0m\u001b[0;34m\u001b[0m\u001b[0m\n",
      "\u001b[0;31mTypeError\u001b[0m: super() takes at least 1 argument (0 given)"
     ]
    }
   ],
   "source": [
    "from similarity.qgram import QGram\n",
    "\n",
    "qgram = QGram(1)\n",
    "print(qgram.distance('ABCD', 'ABCE'))"
   ]
  },
  {
   "cell_type": "markdown",
   "metadata": {},
   "source": [
    "# 6. Soundex"
   ]
  },
  {
   "cell_type": "markdown",
   "metadata": {},
   "source": [
    "Find the best match(es) for the word in dictionary according to the soundex table."
   ]
  },
  {
   "cell_type": "code",
   "execution_count": null,
   "metadata": {},
   "outputs": [],
   "source": [
    "soundex = fuzzy.Soundex(4)\n",
    "soundex(\"fuzzy\")"
   ]
  },
  {
   "cell_type": "code",
   "execution_count": null,
   "metadata": {},
   "outputs": [],
   "source": [
    "def best_match_soundex(target):\n",
    "    \n",
    "    soundex = fuzzy.Soundex(4)\n",
    "    target_soundex = soundex(target)\n",
    "    \n",
    "    best_matches = []\n",
    "    \n",
    "    for word in dict_ls:\n",
    "        print word\n",
    "        print soundex(word)\n",
    "        if (soundex(word) == target_soundex):  # same soundex\n",
    "            best_matches.append(word)\n",
    "    print best_matches\n",
    "    \n",
    "    return best_matches"
   ]
  },
  {
   "cell_type": "code",
   "execution_count": null,
   "metadata": {},
   "outputs": [],
   "source": [
    "wiki_correction_dict_soundex = {}\n",
    "for word in wiki_misspell_ls:\n",
    "    if word not in wiki_correction_dict_soundex:\n",
    "        wiki_correction_dict_soundex[word] = best_match_soundex(word)"
   ]
  },
  {
   "cell_type": "code",
   "execution_count": null,
   "metadata": {},
   "outputs": [],
   "source": [
    "soundex = fuzzy.Soundex(4)\n",
    "soundex(\"aam\")"
   ]
  },
  {
   "cell_type": "code",
   "execution_count": null,
   "metadata": {},
   "outputs": [],
   "source": [
    "print wiki_dict_ls"
   ]
  },
  {
   "cell_type": "code",
   "execution_count": null,
   "metadata": {},
   "outputs": [],
   "source": []
  }
 ],
 "metadata": {
  "kernelspec": {
   "display_name": "Python 2",
   "language": "python",
   "name": "python2"
  },
  "language_info": {
   "codemirror_mode": {
    "name": "ipython",
    "version": 2
   },
   "file_extension": ".py",
   "mimetype": "text/x-python",
   "name": "python",
   "nbconvert_exporter": "python",
   "pygments_lexer": "ipython2",
   "version": "2.7.15"
  }
 },
 "nbformat": 4,
 "nbformat_minor": 2
}
