{
 "cells": [
  {
   "cell_type": "markdown",
   "metadata": {},
   "source": [
    "# 1. Import modules & Read files"
   ]
  },
  {
   "cell_type": "markdown",
   "metadata": {},
   "source": [
    "Import required modules."
   ]
  },
  {
   "cell_type": "code",
   "execution_count": 2,
   "metadata": {},
   "outputs": [],
   "source": [
    "import numpy as np\n",
    "import Levenshtein as levenshtein\n",
    "from sklearn.model_selection import train_test_split\n",
    "import jellyfish\n",
    "from weighted_levenshtein import lev as weighted_lev"
   ]
  },
  {
   "cell_type": "markdown",
   "metadata": {},
   "source": [
    "Define a function to read the files."
   ]
  },
  {
   "cell_type": "code",
   "execution_count": 3,
   "metadata": {},
   "outputs": [],
   "source": [
    "def readfile(filename):\n",
    "    f = open(filename, \"r\")\n",
    "    lines = f.readlines()\n",
    "    ls = []\n",
    "    for line in lines:\n",
    "        ls.append(line.strip())\n",
    "    f.close()\n",
    "    return ls"
   ]
  },
  {
   "cell_type": "markdown",
   "metadata": {},
   "source": [
    "Read dicitonary and wiki dataset and store as variables."
   ]
  },
  {
   "cell_type": "code",
   "execution_count": 4,
   "metadata": {},
   "outputs": [],
   "source": [
    "dict_ls = readfile(\"dict.txt\")\n",
    "correct_ls = readfile(\"wiki_correct.txt\")\n",
    "misspell_ls = readfile(\"wiki_misspell.txt\")"
   ]
  },
  {
   "cell_type": "markdown",
   "metadata": {},
   "source": [
    "# 2. Evaluation Metrics"
   ]
  },
  {
   "cell_type": "markdown",
   "metadata": {},
   "source": [
    "Define a function to evaluate the spelling correction results. (Precision & Recall & F-Score)"
   ]
  },
  {
   "cell_type": "code",
   "execution_count": 47,
   "metadata": {},
   "outputs": [],
   "source": [
    "def wiki_eval(result_dict, curr_misspell_ls, curr_correct_ls):\n",
    "    tp = 0\n",
    "    fp = 0\n",
    "    fn = 0\n",
    "\n",
    "    for i in range(len(curr_misspell_ls)):\n",
    "        word = curr_misspell_ls[i]\n",
    "        true_word = curr_correct_ls[i]\n",
    "        if true_word in result_dict[word]:\n",
    "            tp += 1\n",
    "            fp += len(result_dict[word]) - 1\n",
    "        else:\n",
    "            fn += 1 # miss\n",
    "            fp += len(result_dict[word])\n",
    "            \n",
    "    precision = tp*1.0 / (tp + fp)\n",
    "    recall = tp*1.0 / (tp + fn)\n",
    "    fscore = 2*(precision*recall)/(precision + recall)\n",
    "\n",
    "    return precision,recall,fscore"
   ]
  },
  {
   "cell_type": "markdown",
   "metadata": {},
   "source": [
    "# 3. Baseline method: Levenshtein Distance (LD)\n",
    "## 3.1. Run with the whole Wikipedia Dataset (4453 tokens)"
   ]
  },
  {
   "cell_type": "markdown",
   "metadata": {},
   "source": [
    "Define a function to find the best matches for the misspelled words according to the levenshtein distance."
   ]
  },
  {
   "cell_type": "code",
   "execution_count": 129,
   "metadata": {},
   "outputs": [],
   "source": [
    "def best_match_LD(target):\n",
    "    # init best match as first entry of the dict\n",
    "    min_dist = levenshtein.distance(target,dict_ls[0])\n",
    "    best_matches = [dict_ls[0]]\n",
    "    \n",
    "    for word in dict_ls[1:]:\n",
    "        if abs(len(word) - len(target)) > min_dist:  # not possible to be min_dist, skip\n",
    "            continue\n",
    "        dist = levenshtein.distance(target,word)  # cal global edit distance\n",
    "        # replace if shorter distance\n",
    "        if dist < min_dist:\n",
    "            min_dist = dist\n",
    "            best_matches = [word]\n",
    "        elif dist == min_dist:\n",
    "            best_matches.append(word)\n",
    "    \n",
    "    return best_matches"
   ]
  },
  {
   "cell_type": "markdown",
   "metadata": {},
   "source": [
    "Find the best matches for the words in wiki data sets according to levenshtein."
   ]
  },
  {
   "cell_type": "code",
   "execution_count": 131,
   "metadata": {},
   "outputs": [],
   "source": [
    "LD_correction_dict = {}\n",
    "for word in misspell_ls:\n",
    "    if word not in LD_correction_dict: # avoid repeated word\n",
    "        LD_correction_dict[word] = best_match_LD(word)"
   ]
  },
  {
   "cell_type": "markdown",
   "metadata": {},
   "source": [
    "Save the correction results to numpy file."
   ]
  },
  {
   "cell_type": "code",
   "execution_count": 132,
   "metadata": {},
   "outputs": [],
   "source": [
    "# Save\n",
    "np.save('levenshtein_results.npy', LD_correction_dict) "
   ]
  },
  {
   "cell_type": "markdown",
   "metadata": {},
   "source": [
    "Load the results from numpy file if required.|"
   ]
  },
  {
   "cell_type": "code",
   "execution_count": 133,
   "metadata": {},
   "outputs": [],
   "source": [
    "# Load\n",
    "LD_correction_dict = np.load('levenshtein_results.npy').item()"
   ]
  },
  {
   "cell_type": "markdown",
   "metadata": {},
   "source": [
    "Precision, recall, and F-score for Levenshtein (baseline)"
   ]
  },
  {
   "cell_type": "code",
   "execution_count": 134,
   "metadata": {},
   "outputs": [
    {
     "name": "stdout",
     "output_type": "stream",
     "text": [
      "Evaluation Metrics (Levenshtein Distance, 100% Data)\n",
      "---------------------------------------------------\n",
      "Precision: 0.260432080497\n",
      "Recall: 0.790478329216\n",
      "F-score: 0.391785853414\n"
     ]
    }
   ],
   "source": [
    "(precision, recall, fscore) = wiki_eval(LD_correction_dict, misspell_ls, correct_ls)\n",
    "print \"Evaluation Metrics (Levenshtein Distance, 100% Data)\"\n",
    "print \"---------------------------------------------------\"\n",
    "print \"Precision: \" + str(precision)\n",
    "print \"Recall: \" + str(recall)\n",
    "print \"F-score: \" + str(fscore)"
   ]
  },
  {
   "cell_type": "markdown",
   "metadata": {},
   "source": [
    "## 3.2. Run with only 20% of the Wikipedia Dataset"
   ]
  },
  {
   "cell_type": "markdown",
   "metadata": {},
   "source": [
    "### 3.2.1. Randomly extract 20% of the Wikipedia Dataset as a subset"
   ]
  },
  {
   "cell_type": "markdown",
   "metadata": {},
   "source": [
    "Randomly extract the subset with \"train_test_split\" function."
   ]
  },
  {
   "cell_type": "code",
   "execution_count": 46,
   "metadata": {},
   "outputs": [],
   "source": [
    "misspell_subset, misspell_left, correct_subset, correct_left = train_test_split(misspell_ls, \n",
    "                                                                                correct_ls,\n",
    "                                                                                train_size = 0.2,\n",
    "                                                                                test_size = 0.8,\n",
    "                                                                                shuffle = True)"
   ]
  },
  {
   "cell_type": "markdown",
   "metadata": {},
   "source": [
    "Combine two subsets into a single list."
   ]
  },
  {
   "cell_type": "code",
   "execution_count": 47,
   "metadata": {},
   "outputs": [],
   "source": [
    "combined_subset = [(misspell_subset), (correct_subset)]"
   ]
  },
  {
   "cell_type": "markdown",
   "metadata": {},
   "source": [
    "Save the combined subset to numpy file."
   ]
  },
  {
   "cell_type": "code",
   "execution_count": 48,
   "metadata": {},
   "outputs": [],
   "source": [
    "# Save\n",
    "np.save('combined_subset.npy', combined_subset) "
   ]
  },
  {
   "cell_type": "markdown",
   "metadata": {},
   "source": [
    "Load the combined subset from numpy file and store as variables if required."
   ]
  },
  {
   "cell_type": "code",
   "execution_count": 5,
   "metadata": {},
   "outputs": [],
   "source": [
    "# Load\n",
    "combined_subset = np.load('combined_subset.npy')\n",
    "\n",
    "# store as variables\n",
    "misspell_subset = combined_subset[0]\n",
    "correct_subset = combined_subset[1]"
   ]
  },
  {
   "cell_type": "markdown",
   "metadata": {},
   "source": [
    "### 3.2.2. Run Levenshtein with the data subset"
   ]
  },
  {
   "cell_type": "markdown",
   "metadata": {},
   "source": [
    "Find the best matches for the words in data subset according to Levenshtein."
   ]
  },
  {
   "cell_type": "code",
   "execution_count": 50,
   "metadata": {},
   "outputs": [],
   "source": [
    "LD_subcorrection_dict = {}\n",
    "for word in misspell_subset:\n",
    "    if word not in LD_subcorrection_dict: # avoid repeated word\n",
    "        LD_subcorrection_dict[word] = best_match_LD(word)"
   ]
  },
  {
   "cell_type": "markdown",
   "metadata": {},
   "source": [
    "Save the correction results."
   ]
  },
  {
   "cell_type": "code",
   "execution_count": 51,
   "metadata": {},
   "outputs": [],
   "source": [
    "# Save\n",
    "np.save('subset_levenshtein_results.npy', LD_subcorrection_dict)"
   ]
  },
  {
   "cell_type": "code",
   "execution_count": 65,
   "metadata": {},
   "outputs": [],
   "source": [
    "# Load\n",
    "LD_subcorrection_dict = np.load('subset_levenshtein_results.npy').item()"
   ]
  },
  {
   "cell_type": "markdown",
   "metadata": {},
   "source": [
    "Precision, recall, and F-score for Levenshtein (baseline)"
   ]
  },
  {
   "cell_type": "code",
   "execution_count": 68,
   "metadata": {
    "scrolled": true
   },
   "outputs": [
    {
     "name": "stdout",
     "output_type": "stream",
     "text": [
      "Evaluation Metrics (Levenshtein Distance, 20% Data)\n",
      "---------------------------------------------------\n",
      "Precision: 0.269969278034\n",
      "Recall: 0.789887640449\n",
      "F-score: 0.402404121351\n"
     ]
    }
   ],
   "source": [
    "(precision, recall, fscore) = wiki_eval(LD_subcorrection_dict, misspell_subset, correct_subset)\n",
    "print \"Evaluation Metrics (Levenshtein Distance, 20% Data)\"\n",
    "print \"---------------------------------------------------\"\n",
    "print \"Precision: \" + str(precision)\n",
    "print \"Recall: \" + str(recall)\n",
    "print \"F-score: \" + str(fscore)"
   ]
  },
  {
   "cell_type": "markdown",
   "metadata": {},
   "source": [
    "# 4. Damerau-Levenshtein Distance (DLD)"
   ]
  },
  {
   "cell_type": "markdown",
   "metadata": {},
   "source": [
    "Define a function to find the best matches of the misspelled words with DLD."
   ]
  },
  {
   "cell_type": "code",
   "execution_count": 71,
   "metadata": {},
   "outputs": [],
   "source": [
    "def best_match_DLD(target):\n",
    "    # init best match as first entry of the dict\n",
    "    min_dist = jellyfish.damerau_levenshtein_distance(unicode(target,\"utf-8\"),unicode(dict_ls[0],\"utf-8\"))\n",
    "    best_matches = [dict_ls[0]]\n",
    "    \n",
    "    for word in dict_ls[1:]:\n",
    "        if abs(len(word) - len(target)) > min_dist:  # not possible to be min_dist, skip\n",
    "            continue\n",
    "        dist = jellyfish.damerau_levenshtein_distance(unicode(target,\"utf-8\"),unicode(word,\"utf-8\"))  # cal DLD\n",
    "        # replace if shorter distance\n",
    "        if dist < min_dist:\n",
    "            min_dist = dist\n",
    "            best_matches = [word]\n",
    "        elif dist == min_dist:\n",
    "            best_matches.append(word)\n",
    "\n",
    "    return best_matches"
   ]
  },
  {
   "cell_type": "markdown",
   "metadata": {},
   "source": [
    "Find the best matches for the wiki misspelled words according to DLD."
   ]
  },
  {
   "cell_type": "code",
   "execution_count": 72,
   "metadata": {},
   "outputs": [],
   "source": [
    "DLD_correction_dict = {}\n",
    "for word in misspell_subset:\n",
    "    if word not in DLD_correction_dict: # avoid repeated word\n",
    "        DLD_correction_dict[word] = best_match_DLD(word)"
   ]
  },
  {
   "cell_type": "markdown",
   "metadata": {},
   "source": [
    "Evaluate the results of DLD."
   ]
  },
  {
   "cell_type": "code",
   "execution_count": 73,
   "metadata": {},
   "outputs": [],
   "source": [
    "# Save\n",
    "np.save('DLD_results.npy', DLD_correction_dict)"
   ]
  },
  {
   "cell_type": "code",
   "execution_count": 74,
   "metadata": {},
   "outputs": [],
   "source": [
    "# Load\n",
    "DLD_correction_dict = np.load('DLD_results.npy').item()"
   ]
  },
  {
   "cell_type": "markdown",
   "metadata": {},
   "source": [
    "Precision, recall, and F-score for DLD"
   ]
  },
  {
   "cell_type": "code",
   "execution_count": 75,
   "metadata": {},
   "outputs": [
    {
     "name": "stdout",
     "output_type": "stream",
     "text": [
      "Evaluation Metrics (Damerau-Levenshtein Distance, 20% Data)\n",
      "---------------------------------------------------\n",
      "Precision: 0.342176258993\n",
      "Recall: 0.855056179775\n",
      "F-score: 0.488760436737\n"
     ]
    }
   ],
   "source": [
    "(precision, recall, fscore) = wiki_eval(DLD_correction_dict, misspell_subset, correct_subset)\n",
    "print \"Evaluation Metrics (Damerau-Levenshtein Distance, 20% Data)\"\n",
    "print \"---------------------------------------------------\"\n",
    "print \"Precision: \" + str(precision)\n",
    "print \"Recall: \" + str(recall)\n",
    "print \"F-score: \" + str(fscore)"
   ]
  },
  {
   "cell_type": "markdown",
   "metadata": {},
   "source": [
    "# 5. Weighted-Levenshtein Distance (WLD)"
   ]
  },
  {
   "cell_type": "markdown",
   "metadata": {},
   "source": [
    "Find replacement errors in the wikipedia dataset."
   ]
  },
  {
   "cell_type": "code",
   "execution_count": 30,
   "metadata": {},
   "outputs": [],
   "source": [
    "replace_tuple_dict = {}"
   ]
  },
  {
   "cell_type": "code",
   "execution_count": 33,
   "metadata": {},
   "outputs": [],
   "source": [
    "for i in range(len(misspell_ls)):\n",
    "    misspell = misspell_ls[i] \n",
    "    correct = correct_ls[i]\n",
    "    if len(misspell) == len(correct): # same length\n",
    "        diff = 0\n",
    "        diff_tuple = None\n",
    "        for j in range(len(misspell)):\n",
    "            if misspell[j] != correct[j]:\n",
    "                diff += 1\n",
    "                diff_tuple = (misspell[j],correct[j])\n",
    "        if diff == 1:  # add to dict\n",
    "            if diff_tuple not in replace_tuple_dict:\n",
    "                replace_tuple_dict[diff_tuple] = 1\n",
    "            else:\n",
    "                replace_tuple_dict[diff_tuple] += 1"
   ]
  },
  {
   "cell_type": "markdown",
   "metadata": {},
   "source": [
    "Print replacement error with frequency greater than 70."
   ]
  },
  {
   "cell_type": "code",
   "execution_count": 51,
   "metadata": {},
   "outputs": [
    {
     "name": "stdout",
     "output_type": "stream",
     "text": [
      "(('e', 'a'), 185)\n",
      "(('a', 'e'), 231)\n",
      "(('i', 'a'), 73)\n",
      "(('e', 'o'), 83)\n",
      "(('i', 'e'), 129)\n",
      "(('a', 'i'), 125)\n",
      "(('e', 'i'), 127)\n"
     ]
    }
   ],
   "source": [
    "for item in replace_tuple_dict.items():\n",
    "    if item[1] > 70:  # print freq > 70 only\n",
    "        print item"
   ]
  },
  {
   "cell_type": "markdown",
   "metadata": {},
   "source": [
    "Define substitute costs according to the frequency observed above."
   ]
  },
  {
   "cell_type": "code",
   "execution_count": 24,
   "metadata": {},
   "outputs": [],
   "source": [
    "substitute_costs = np.ones((128, 128), dtype=np.float64)  # make a 2D array of 1's\n",
    "substitute_costs[ord('e'), ord('a')] = 0.5  # make substituting 'a' for 'e' cost 0.5\n",
    "substitute_costs[ord('a'), ord('e')] = 0.5\n",
    "substitute_costs[ord('i'), ord('e')] = 0.5\n",
    "substitute_costs[ord('a'), ord('i')] = 0.5\n",
    "substitute_costs[ord('e'), ord('i')] = 0.5"
   ]
  },
  {
   "cell_type": "code",
   "execution_count": 44,
   "metadata": {},
   "outputs": [],
   "source": [
    "def best_match_WLD(target):\n",
    "    # init best match as first entry of the dict\n",
    "    min_dist = weighted_lev(target, dict_ls[0], substitute_costs=substitute_costs)\n",
    "    best_matches = [dict_ls[0]]\n",
    "    \n",
    "    for word in dict_ls[1:]:\n",
    "        dist = weighted_lev(target, word, substitute_costs=substitute_costs)   # cal WLD\n",
    "        # replace if shorter distance\n",
    "        if dist < min_dist:\n",
    "            min_dist = dist\n",
    "            best_matches = [word]\n",
    "        elif dist == min_dist:\n",
    "            best_matches.append(word)\n",
    "\n",
    "    return best_matches"
   ]
  },
  {
   "cell_type": "code",
   "execution_count": 45,
   "metadata": {},
   "outputs": [],
   "source": [
    "WLD_correction_dict = {}\n",
    "for word in misspell_subset:\n",
    "    if word not in WLD_correction_dict: # avoid repeated word\n",
    "        WLD_correction_dict[word] = best_match_WLD(word)"
   ]
  },
  {
   "cell_type": "code",
   "execution_count": 48,
   "metadata": {},
   "outputs": [],
   "source": [
    "# Save\n",
    "np.save('WLD_results.npy', WLD_correction_dict)"
   ]
  },
  {
   "cell_type": "code",
   "execution_count": null,
   "metadata": {},
   "outputs": [],
   "source": [
    "# Load\n",
    "WLD_correction_dict = np.load('WLD_results.npy').item()"
   ]
  },
  {
   "cell_type": "code",
   "execution_count": 49,
   "metadata": {},
   "outputs": [
    {
     "name": "stdout",
     "output_type": "stream",
     "text": [
      "Evaluation Metrics (Weighted-Levenshtein Distance, 20% Data)\n",
      "---------------------------------------------------\n",
      "Precision: 0.316822429907\n",
      "Recall: 0.761797752809\n",
      "F-score: 0.447524752475\n"
     ]
    }
   ],
   "source": [
    "(precision, recall, fscore) = wiki_eval(WLD_correction_dict, misspell_subset, correct_subset)\n",
    "print \"Evaluation Metrics (Weighted-Levenshtein Distance, 20% Data)\"\n",
    "print \"---------------------------------------------------\"\n",
    "print \"Precision: \" + str(precision)\n",
    "print \"Recall: \" + str(recall)\n",
    "print \"F-score: \" + str(fscore)"
   ]
  },
  {
   "cell_type": "markdown",
   "metadata": {},
   "source": [
    "# 6. N-Gram Distance (N=2)"
   ]
  },
  {
   "cell_type": "markdown",
   "metadata": {},
   "source": [
    "Define a function to get all the bigrams of a word as a dictionary."
   ]
  },
  {
   "cell_type": "code",
   "execution_count": 15,
   "metadata": {},
   "outputs": [],
   "source": [
    "def get_bigram_dict(word):\n",
    "    bigram_dict = {}\n",
    "    new_word = \"#\" + word + \"#\"  # padding\n",
    "    \n",
    "    for i in range(len(new_word)-1):\n",
    "        gram = new_word[i:i+2]\n",
    "        if gram not in bigram_dict:\n",
    "            bigram_dict[gram] = 1\n",
    "        else:\n",
    "            bigram_dict[gram] += 1\n",
    "        \n",
    "    return bigram_dict"
   ]
  },
  {
   "cell_type": "markdown",
   "metadata": {},
   "source": [
    "Define a function to calculate the bigram distance between the ngram dictionaries s_dict and t_dict."
   ]
  },
  {
   "cell_type": "code",
   "execution_count": 16,
   "metadata": {},
   "outputs": [],
   "source": [
    "def bigram_dist(s_dict,t_dict, s_len, t_len):\n",
    "    s_grams = s_dict.keys()\n",
    "    t_grams = t_dict.keys()\n",
    "    \n",
    "    intersect = 0\n",
    "    \n",
    "    for gram in s_grams:\n",
    "        if gram in t_grams:\n",
    "            intersect += min(s_dict[gram], t_dict[gram])\n",
    "            \n",
    "    return ((s_len+1) + (t_len+1) - 2*intersect)"
   ]
  },
  {
   "cell_type": "markdown",
   "metadata": {},
   "source": [
    "Get the ngram dictionaries for each misspelled token & dictionary entries."
   ]
  },
  {
   "cell_type": "code",
   "execution_count": 106,
   "metadata": {},
   "outputs": [],
   "source": [
    "# n-gram dictionaries\n",
    "misspell_subset_dict = []\n",
    "dict_ls_dict = []\n",
    "\n",
    "for word in misspell_subset:\n",
    "    misspell_subset_dict.append(get_bigram_dict(word))\n",
    "\n",
    "for word in dict_ls:\n",
    "    dict_ls_dict.append(get_bigram_dict(word))"
   ]
  },
  {
   "cell_type": "markdown",
   "metadata": {},
   "source": [
    "Define a function to find the best matches for a misspelled token with its index in the subset given."
   ]
  },
  {
   "cell_type": "code",
   "execution_count": 17,
   "metadata": {},
   "outputs": [],
   "source": [
    "def best_match_ngram(target_index):\n",
    "    # init best match as first entry of the dict\n",
    "    target_dict = misspell_subset_dict[target_index]\n",
    "    target_len = len(misspell_subset)\n",
    "    min_dist = bigram_dist(target_dict,dict_ls_dict[0], target_len, len(dict_ls[0]))\n",
    "    best_matches = [dict_ls[0]]\n",
    "    \n",
    "    for i in range(1,len(dict_ls)):\n",
    "        dist = bigram_dist(target_dict,dict_ls_dict[i], target_len, len(dict_ls[i]))\n",
    "        # replace if shorter distance\n",
    "        if dist < min_dist:\n",
    "            min_dist = dist\n",
    "            best_matches = [dict_ls[i]]\n",
    "        elif dist == min_dist:\n",
    "            best_matches.append(dict_ls[i])\n",
    "\n",
    "    return best_matches"
   ]
  },
  {
   "cell_type": "markdown",
   "metadata": {},
   "source": [
    "Find the best matches for the wiki misspelled words according to N-Gram (N=2)."
   ]
  },
  {
   "cell_type": "code",
   "execution_count": 118,
   "metadata": {},
   "outputs": [],
   "source": [
    "ngram_correction_dict = {}\n",
    "for i in range(len(misspell_subset)):\n",
    "    word = misspell_subset[i]\n",
    "    if word not in ngram_correction_dict: # avoid repeated word\n",
    "        ngram_correction_dict[word] = best_match_ngram(i)"
   ]
  },
  {
   "cell_type": "code",
   "execution_count": 120,
   "metadata": {},
   "outputs": [],
   "source": [
    "# Save\n",
    "np.save('ngram_results.npy', ngram_correction_dict)"
   ]
  },
  {
   "cell_type": "code",
   "execution_count": 121,
   "metadata": {},
   "outputs": [],
   "source": [
    "# Load\n",
    "ngram_correction_dict = np.load('ngram_results.npy').item()"
   ]
  },
  {
   "cell_type": "markdown",
   "metadata": {},
   "source": [
    "Precision, recall, and F-score for N-Gram."
   ]
  },
  {
   "cell_type": "code",
   "execution_count": 122,
   "metadata": {},
   "outputs": [
    {
     "name": "stdout",
     "output_type": "stream",
     "text": [
      "Evaluation Metrics (N-Gram Distance, 20% Data)\n",
      "---------------------------------------------------\n",
      "Precision: 0.481452249408\n",
      "Recall: 0.685393258427\n",
      "F-score: 0.565600370885\n"
     ]
    }
   ],
   "source": [
    "(precision, recall, fscore) = wiki_eval(ngram_correction_dict, misspell_subset, correct_subset)\n",
    "print \"Evaluation Metrics (N-Gram Distance, 20% Data)\"\n",
    "print \"---------------------------------------------------\"\n",
    "print \"Precision: \" + str(precision)\n",
    "print \"Recall: \" + str(recall)\n",
    "print \"F-score: \" + str(fscore)"
   ]
  },
  {
   "cell_type": "markdown",
   "metadata": {},
   "source": [
    "# Examples"
   ]
  },
  {
   "cell_type": "code",
   "execution_count": 8,
   "metadata": {},
   "outputs": [
    {
     "name": "stdout",
     "output_type": "stream",
     "text": [
      "('chasr', 'chase')\n",
      "('theri', 'their')\n",
      "('reffering', 'referring')\n",
      "('critisized', 'criticised')\n",
      "('protocal', 'protocol')\n",
      "('consept', 'concept')\n",
      "('vasalls', 'vassals')\n",
      "('importamt', 'important')\n",
      "('wiht', 'with')\n",
      "('rferences', 'references')\n",
      "('sucessot', 'successor')\n",
      "('frequentily', 'frequently')\n",
      "('possesing', 'possessing')\n",
      "('amerliorate', 'ameliorate')\n",
      "('indespensable', 'indispensable')\n",
      "('committment', 'commitment')\n",
      "('tlaking', 'talking')\n",
      "('casues', 'causes')\n",
      "('vreity', 'variety')\n",
      "('souveniers', 'souvenirs')\n",
      "('trancendent', 'transcendent')\n",
      "('faciliated', 'facilitated')\n",
      "('desctruction', 'destruction')\n",
      "('profilic', 'prolific')\n",
      "('effecient', 'efficient')\n",
      "('consectutive', 'consecutive')\n",
      "('mispelled', 'misspelled')\n",
      "('labled', 'labelled')\n",
      "('priveledges', 'privileges')\n",
      "('survivers', 'survivors')\n",
      "('ocasion', 'occasion')\n",
      "('juristiction', 'jurisdiction')\n",
      "('inumerable', 'innumerable')\n",
      "('childbird', 'childbirth')\n",
      "('fourty', 'forty')\n",
      "('multiplers', 'multipliers')\n",
      "('guage', 'gauge')\n",
      "('adminstered', 'administered')\n",
      "('nutritents', 'nutrients')\n",
      "('fightings', 'fighting')\n",
      "('seing', 'seeing')\n",
      "('tkaes', 'takes')\n",
      "('cellpading', 'cellpadding')\n",
      "('combusion', 'combustion')\n",
      "('interupt', 'interrupt')\n",
      "('gutteral', 'guttural')\n",
      "('adavanced', 'advanced')\n",
      "('pubilsher', 'publisher')\n",
      "('constituional', 'constitutional')\n",
      "('hwile', 'while')\n",
      "('originially', 'originally')\n",
      "('indentical', 'identical')\n",
      "('admendment', 'amendment')\n",
      "('publishor', 'publisher')\n",
      "('dichtomy', 'dichotomy')\n",
      "('devistating', 'devastating')\n",
      "('applicaitons', 'applications')\n",
      "('manufatured', 'manufactured')\n",
      "('morroccan', 'moroccan')\n",
      "('morgage', 'mortgage')\n",
      "('admissable', 'admissible')\n",
      "('occurance', 'occurrence')\n",
      "('itnroduced', 'introduced')\n",
      "('compatiblity', 'compatibility')\n",
      "('agin', 'again')\n",
      "('aggreed', 'agreed')\n",
      "('buoancy', 'buoyancy')\n",
      "('controvercial', 'controversial')\n",
      "('withdrawl', 'withdrawal')\n",
      "('deffine', 'define')\n",
      "('acordingly', 'accordingly')\n",
      "('eligable', 'eligible')\n",
      "('parrallelly', 'parallelly')\n",
      "('surley', 'surly')\n",
      "('iresistibly', 'irresistibly')\n",
      "('paralelly', 'parallelly')\n",
      "('ressembled', 'resembled')\n",
      "('sheat', 'sheath')\n",
      "('refereces', 'references')\n",
      "('deparments', 'departments')\n",
      "('gnawwed', 'gnawed')\n",
      "('unsucessfully', 'unsuccessfully')\n",
      "('lvoe', 'love')\n",
      "('gridles', 'griddles')\n",
      "('otehr', 'other')\n",
      "('sould', 'soul')\n",
      "('enviornments', 'environments')\n",
      "('divice', 'device')\n",
      "('ukranian', 'ukrainian')\n",
      "('thna', 'than')\n",
      "('convienient', 'convenient')\n",
      "('controling', 'controlling')\n",
      "('unforgetable', 'unforgettable')\n",
      "('terriories', 'territories')\n",
      "('fianlly', 'finally')\n",
      "('juducial', 'judicial')\n",
      "('varient', 'variant')\n",
      "('armistace', 'armistice')\n",
      "('ommitted', 'omitted')\n",
      "('enviorment', 'environment')\n",
      "('shaddow', 'shadow')\n",
      "('peopel', 'people')\n",
      "('paralely', 'parallelly')\n",
      "('thrid', 'third')\n",
      "('impecabbly', 'impeccably')\n",
      "('autor', 'author')\n",
      "('dispencing', 'dispensing')\n",
      "('staion', 'station')\n",
      "('gogin', 'gauguin')\n",
      "('receeding', 'receding')\n",
      "('abreviate', 'abbreviate')\n",
      "('sountrack', 'soundtrack')\n",
      "('belives', 'beliefs')\n",
      "('probablly', 'probably')\n",
      "('indisputibly', 'indisputably')\n",
      "('personell', 'personnel')\n",
      "('ytou', 'you')\n",
      "('iresistably', 'irresistibly')\n",
      "('hierarcical', 'hierarchical')\n",
      "('rigeur', 'rigor')\n",
      "('arrengement', 'arrangement')\n",
      "('wich', 'which')\n",
      "('restaraunteurs', 'restaurateurs')\n",
      "('signfies', 'signifies')\n",
      "('puplisher', 'publisher')\n",
      "('substraction', 'subtraction')\n",
      "('independendet', 'independent')\n",
      "('priviledge', 'privilege')\n",
      "('tremelos', 'tremolos')\n",
      "('incuding', 'including')\n",
      "('dispite', 'despite')\n",
      "('quizes', 'quizzes')\n",
      "('indigineous', 'indigenous')\n",
      "('coform', 'conform')\n",
      "('unsucesfuly', 'unsuccessfully')\n",
      "('fianite', 'finite')\n",
      "('feromone', 'pheromone')\n",
      "('correponding', 'corresponding')\n",
      "('iunior', 'junior')\n",
      "('obstancles', 'obstacles')\n",
      "('prevelant', 'prevalent')\n",
      "('subsidary', 'subsidiary')\n",
      "('medeival', 'medieval')\n",
      "('wordlwide', 'worldwide')\n",
      "('distingish', 'distinguish')\n",
      "('uncompetive', 'uncompetitive')\n",
      "('muncipalities', 'municipalities')\n",
      "('accoring', 'according')\n",
      "('artcile', 'article')\n",
      "('themselfs', 'themselves')\n",
      "('vigeur', 'vigour')\n",
      "('correspondants', 'correspondents')\n",
      "('instatance', 'instance')\n",
      "('likelyhood', 'likelihood')\n",
      "('charistics', 'characteristics')\n",
      "('phenomenom', 'phenomenon')\n",
      "('revaluated', 'reevaluated')\n",
      "('resaurant', 'restaurant')\n",
      "('testomony', 'testimony')\n",
      "('guatamalan', 'guatemalan')\n",
      "('speach', 'speech')\n",
      "('wich', 'witch')\n",
      "('druming', 'drumming')\n",
      "('exeptional', 'exceptional')\n",
      "('govement', 'government')\n",
      "('envolutionary', 'evolutionary')\n",
      "('priveleges', 'privileges')\n",
      "('metamorphysis', 'metamorphosis')\n",
      "('arbitarily', 'arbitrarily')\n",
      "('sheat', 'sheet')\n",
      "('indviduals', 'individuals')\n",
      "('quitted', 'quit')\n",
      "('harrases', 'harasses')\n",
      "('technitian', 'technician')\n",
      "('cahracters', 'characters')\n",
      "('throught', 'throughout')\n",
      "('attemt', 'attempt')\n",
      "('galvinized', 'galvanized')\n",
      "('aquainted', 'acquainted')\n",
      "('througout', 'throughout')\n",
      "('suceed', 'succeed')\n",
      "('yera', 'year')\n",
      "('soliders', 'soldiers')\n",
      "('undetecable', 'undetectable')\n",
      "('mileau', 'milieu')\n",
      "('reccomendations', 'recommendations')\n",
      "('heared', 'heard')\n",
      "('surprize', 'surprise')\n",
      "('responsibilites', 'responsibilities')\n",
      "('repatition', 'repetition')\n",
      "('ninty', 'ninety')\n",
      "('centuties', 'centuries')\n",
      "('perphas', 'perhaps')\n",
      "('indipendently', 'independently')\n",
      "('thikning', 'thickening')\n",
      "('swepth', 'swept')\n",
      "('anomoly', 'anomaly')\n",
      "('fleed', 'fled')\n",
      "('precisly', 'precisely')\n",
      "('godess', 'goddess')\n",
      "('acomplishments', 'accomplishments')\n",
      "('safty', 'safety')\n",
      "('magizine', 'magazine')\n",
      "('multipled', 'multiplied')\n",
      "('proffesional', 'professional')\n",
      "('arogant', 'arrogant')\n",
      "('adressed', 'addressed')\n",
      "('geometrician', 'geometer')\n",
      "('repulican', 'republican')\n",
      "('alwasy', 'always')\n",
      "('toke', 'took')\n",
      "('ammended', 'amended')\n",
      "('responsability', 'responsibility')\n",
      "('exectued', 'executed')\n",
      "('owudl', 'would')\n",
      "('nothern', 'northern')\n",
      "('reccuring', 'recurring')\n",
      "('dicovered', 'discovered')\n",
      "('asthetical', 'aesthetical')\n",
      "('intruments', 'instruments')\n",
      "('adresing', 'addressing')\n",
      "('issueing', 'issuing')\n",
      "('millenialism', 'millennialism')\n",
      "('dificulties', 'difficulties')\n",
      "('govenment', 'government')\n",
      "('definance', 'defiance')\n",
      "('saxaphone', 'saxophone')\n",
      "('unsurprizingly', 'unsurprisingly')\n",
      "('performence', 'performance')\n",
      "('interrugum', 'interregnum')\n",
      "('recommedations', 'recommendations')\n",
      "('collaberative', 'collaborative')\n",
      "('substracts', 'subtracts')\n",
      "('commuinications', 'communications')\n",
      "('docrines', 'doctrines')\n",
      "('warrriors', 'warriors')\n",
      "('orginally', 'originally')\n",
      "('resurecting', 'resurrecting')\n",
      "('amalgomated', 'amalgamated')\n",
      "('moderm', 'modem')\n",
      "('ocassionally', 'occasionally')\n",
      "('accension', 'accession')\n",
      "('conviced', 'convinced')\n",
      "('embarassing', 'embarrassing')\n",
      "('distruction', 'destruction')\n",
      "('bouyancy', 'buoyancy')\n",
      "('exeedingly', 'exceedingly')\n",
      "('traditition', 'tradition')\n",
      "('insensative', 'insensitive')\n",
      "('norhern', 'northern')\n",
      "('reoccurrence', 'recurrence')\n",
      "('slaugterhouses', 'slaughterhouses')\n",
      "('pedestrain', 'pedestrian')\n",
      "('mischeivous', 'mischievous')\n",
      "('ressemblance', 'resemblance')\n",
      "('palistinians', 'palestinians')\n",
      "('conneticut', 'connecticut')\n",
      "('agreemnt', 'agreement')\n",
      "('wholey', 'wholly')\n",
      "('fictious', 'fictitious')\n",
      "('volounteered', 'volunteered')\n",
      "('kindergarden', 'kindergarten')\n",
      "('iritable', 'irritable')\n",
      "('acheivement', 'achievement')\n",
      "('requirment', 'requirement')\n",
      "('critising', 'criticizing')\n",
      "('excange', 'exchange')\n",
      "('dramtic', 'dramatic')\n",
      "('baout', 'about')\n",
      "('aquiring', 'acquiring')\n",
      "('disparingly', 'disparagingly')\n",
      "('soilders', 'soldiers')\n",
      "('manouverability', 'manoeuvrability')\n",
      "('adressing', 'dressing')\n",
      "('mathmatically', 'mathematically')\n",
      "('seceeded', 'seceded')\n",
      "('refernce', 'references')\n",
      "('vigourous', 'vigorous')\n",
      "('thsoe', 'those')\n",
      "('popoulation', 'population')\n",
      "('introdued', 'introduced')\n",
      "('twpo', 'two')\n",
      "('watn', 'want')\n",
      "('carribbean', 'caribbean')\n",
      "('sucesses', 'successes')\n",
      "('automonomous', 'autonomous')\n",
      "('indisputible', 'indisputable')\n",
      "('strat', 'strata')\n",
      "('violentce', 'violence')\n",
      "('disputandem', 'disputandum')\n",
      "('privaleges', 'privileges')\n",
      "('paticular', 'particular')\n",
      "('comany', 'company')\n",
      "('whcih', 'which')\n",
      "('unsuprising', 'unsurprising')\n",
      "('enourmously', 'enormously')\n",
      "('incompetant', 'incompetent')\n",
      "('obediant', 'obedient')\n",
      "('judical', 'judicial')\n",
      "('liscense', 'license')\n",
      "('enviromentally', 'environmentally')\n",
      "('startegic', 'strategic')\n",
      "('volonteered', 'volunteered')\n",
      "('symmetricaly', 'symmetrically')\n",
      "('repulicans', 'republicans')\n",
      "('critisized', 'criticized')\n",
      "('authoritive', 'authoritative')\n",
      "('caluculate', 'calculate')\n",
      "('mysogynist', 'misogynist')\n",
      "('speices', 'species')\n",
      "('geographicial', 'geographical')\n",
      "('audeince', 'audience')\n",
      "('smoe', 'some')\n",
      "('haviest', 'heaviest')\n",
      "('immediatly', 'immediately')\n",
      "('succsessfull', 'successful')\n",
      "('jstu', 'just')\n",
      "('beaurocracy', 'bureaucracy')\n",
      "('agina', 'again')\n",
      "('montanous', 'mountainous')\n",
      "('ensconsed', 'ensconced')\n",
      "('satrically', 'satirically')\n",
      "('yuo', 'you')\n",
      "('incompatable', 'incompatible')\n",
      "('workststion', 'workstation')\n",
      "('affort', 'effort')\n",
      "('availabe', 'available')\n",
      "('writen', 'written')\n",
      "('councellor', 'councillor')\n",
      "('parrallel', 'parallel')\n",
      "('enviornmentally', 'environmentally')\n",
      "('lavae', 'larvae')\n",
      "('alligned', 'aligned')\n",
      "('emition', 'emission')\n",
      "('permenantly', 'permanently')\n",
      "('caterpiller', 'caterpillar')\n",
      "('overshaddowed', 'overshadowed')\n",
      "('penerator', 'penetrator')\n",
      "('comision', 'commission')\n",
      "('poluted', 'polluted')\n",
      "('alchohol', 'alcohol')\n",
      "('reciept', 'receipt')\n",
      "('altough', 'although')\n",
      "('archetect', 'architect')\n",
      "('attemts', 'attempts')\n",
      "('tghe', 'the')\n",
      "('acomplish', 'accomplish')\n",
      "('synphony', 'symphony')\n",
      "('poluting', 'polluting')\n",
      "('mysef', 'myself')\n",
      "('follwoing', 'following')\n",
      "('garantees', 'guarantees')\n",
      "('foootball', 'football')\n",
      "('neccesary', 'necessary')\n",
      "('lippizaner', 'lipizzaner')\n",
      "('playright', 'playwright')\n",
      "('imigrated', 'emigrated')\n",
      "('somtimes', 'sometimes')\n",
      "('repblic', 'republic')\n",
      "('activly', 'actively')\n",
      "('rennovate', 'renovate')\n",
      "('faciliate', 'facilitate')\n",
      "('janurary', 'january')\n",
      "('slowy', 'slowly')\n",
      "('recieves', 'receives')\n",
      "('attemted', 'attempted')\n",
      "('excercise', 'exercise')\n",
      "('spendour', 'splendour')\n",
      "('temerature', 'temperature')\n",
      "('aslo', 'also')\n",
      "('additonal', 'additional')\n",
      "('additionaly', 'additionally')\n",
      "('coridal', 'cordial')\n",
      "('causalities', 'casualties')\n",
      "('prologomena', 'prolegomena')\n",
      "('intrumental', 'instrumental')\n",
      "('charachters', 'characters')\n",
      "('suprisingly', 'surprisingly')\n",
      "('archtypes', 'archetypes')\n",
      "('contamporary', 'contemporary')\n",
      "('comited', 'committed')\n",
      "('imediately', 'immediately')\n",
      "('useage', 'usage')\n",
      "('neigbour', 'neighbor')\n",
      "('intepretator', 'interpretor')\n",
      "('distingishes', 'distinguishes')\n",
      "('foward', 'forward')\n",
      "('referemce', 'reference')\n",
      "('onyl', 'only')\n",
      "('satisfactority', 'satisfactorily')\n",
      "('parrakeets', 'parakeets')\n",
      "('aircrafts', 'aircraft')\n",
      "('seldomly', 'seldom')\n",
      "('competitiion', 'competition')\n",
      "('perhpas', 'perhaps')\n",
      "('despiration', 'desperation')\n",
      "('rarified', 'rarefied')\n",
      "('scince', 'science')\n",
      "('inocence', 'innocence')\n",
      "('blaimed', 'blamed')\n",
      "('shorly', 'shortly')\n",
      "('livley', 'lively')\n",
      "('primordal', 'primordial')\n",
      "('missle', 'missile')\n",
      "('costitution', 'constitution')\n",
      "('privte', 'private')\n",
      "('comdemnation', 'condemnation')\n",
      "('influented', 'influenced')\n",
      "('eles', 'eels')\n",
      "('assoicate', 'associate')\n",
      "('coctail', 'cocktail')\n",
      "('iwth', 'with')\n",
      "('intenational', 'international')\n",
      "('reccommended', 'recommended')\n",
      "('engieneer', 'engineer')\n",
      "('presedential', 'presidential')\n",
      "('assosication', 'assassination')\n",
      "('exludes', 'excludes')\n",
      "('analitic', 'analytic')\n",
      "('publlisher', 'publisher')\n",
      "('auromated', 'automated')\n",
      "('bombardement', 'bombardment')\n",
      "('asteriod', 'asteroid')\n",
      "('racaus', 'raucous')\n",
      "('thiunk', 'think')\n",
      "('qtuie', 'quite')\n",
      "('austrailia', 'australia')\n",
      "('defendents', 'defendants')\n",
      "('volontary', 'voluntary')\n",
      "('eventially', 'eventually')\n",
      "('tyranies', 'tyrannies')\n",
      "('suseptable', 'susceptible')\n",
      "('relized', 'realised')\n",
      "('incompetance', 'incompetence')\n",
      "('dipthongs', 'diphthongs')\n",
      "('rythem', 'rhythm')\n",
      "('transmissable', 'transmissible')\n",
      "('aquisition', 'acquisition')\n",
      "('propostion', 'proposition')\n",
      "('comando', 'commando')\n",
      "('collecton', 'collection')\n",
      "('alreayd', 'already')\n",
      "('stuggling', 'struggling')\n",
      "('ocurrence', 'occurrence')\n",
      "('elementay', 'elementary')\n",
      "('ecidious', 'deciduous')\n",
      "('helpfull', 'helpful')\n",
      "('precice', 'precise')\n",
      "('publically', 'publicly')\n",
      "('relitavely', 'relatively')\n",
      "('goverance', 'governance')\n",
      "('undoubtely', 'undoubtedly')\n",
      "('traditionnal', 'traditional')\n",
      "('rennovating', 'renovating')\n",
      "('essencial', 'essential')\n",
      "('seperately', 'separately')\n",
      "('nightime', 'nighttime')\n",
      "('micoscopy', 'microscopy')\n",
      "('borke', 'broke')\n",
      "('intruduced', 'introduced')\n",
      "('lmits', 'limits')\n",
      "('competion', 'completion')\n",
      "('millitant', 'militant')\n",
      "('impliment', 'implement')\n",
      "('compulsary', 'compulsory')\n",
      "('definiton', 'definition')\n",
      "('heiroglyphics', 'hieroglyphics')\n",
      "('coudl', 'cloud')\n",
      "('charactors', 'characters')\n",
      "('resticted', 'restricted')\n",
      "('succcesses', 'successes')\n",
      "('essentual', 'essential')\n",
      "('propmted', 'prompted')\n",
      "('htis', 'this')\n",
      "('strenous', 'strenuous')\n",
      "('synonomous', 'synonymous')\n",
      "('nontheless', 'nonetheless')\n",
      "('amke', 'make')\n",
      "('alledge', 'allege')\n",
      "('hierachies', 'hierarchies')\n",
      "('ealier', 'earlier')\n",
      "('anohter', 'another')\n",
      "('progessed', 'progressed')\n",
      "('runnung', 'running')\n",
      "('restarant', 'restaurant')\n",
      "('realyl', 'really')\n",
      "('engagment', 'engagement')\n",
      "('cleareance', 'clearance')\n",
      "('acquaintence', 'acquaintance')\n",
      "('cognizent', 'cognizant')\n",
      "('caperbility', 'capability')\n",
      "('motiviated', 'motivated')\n",
      "('interbread', 'interbred')\n",
      "('manuevers', 'maneuvers')\n",
      "('seeked', 'sought')\n",
      "('decidely', 'decidedly')\n",
      "('referiang', 'referring')\n",
      "('organistion', 'organisation')\n",
      "('mechandise', 'merchandise')\n",
      "('provisiosn', 'provision')\n",
      "('thast', 'that')\n",
      "('penninsula', 'peninsula')\n",
      "('manufature', 'manufacture')\n",
      "('puchasing', 'purchasing')\n",
      "('suposing', 'supposing')\n",
      "('archaology', 'archaeology')\n",
      "('cheif', 'chief')\n",
      "('formaly', 'formerly')\n",
      "('surounding', 'surrounding')\n",
      "('muncipality', 'municipality')\n",
      "('comback', 'comeback')\n",
      "('htere', 'there')\n",
      "('diplomancy', 'diplomacy')\n",
      "('caterpillers', 'caterpillars')\n",
      "('rised', 'rose')\n",
      "('awya', 'away')\n",
      "('eyars', 'years')\n",
      "('abundunt', 'abundant')\n",
      "('explaination', 'explanation')\n",
      "('vincinity', 'vicinity')\n",
      "('refernce', 'reference')\n",
      "('auxilliary', 'auxiliary')\n",
      "('pavillion', 'pavilion')\n",
      "('baout', 'bout')\n",
      "('approachs', 'approaches')\n",
      "('propogation', 'propagation')\n",
      "('councellors', 'counselors')\n",
      "('reccommend', 'recommend')\n",
      "('corrispondant', 'correspondent')\n",
      "('weild', 'wield')\n",
      "('guaduloupe', 'guadeloupe')\n",
      "('newletters', 'newsletters')\n",
      "('aranged', 'arranged')\n",
      "('sieze', 'seize')\n",
      "('accomodate', 'accommodate')\n",
      "('testiclular', 'testicular')\n",
      "('misdameanors', 'misdemeanors')\n",
      "('sincerley', 'sincerely')\n",
      "('exhalted', 'exalted')\n",
      "('electrial', 'electrical')\n",
      "('syncronization', 'synchronization')\n",
      "('rythmic', 'rhythmic')\n",
      "('harassement', 'harassment')\n",
      "('lveo', 'love')\n",
      "('octohedral', 'octahedral')\n",
      "('amung', 'among')\n",
      "('halp', 'help')\n",
      "('maintainence', 'maintenance')\n",
      "('resembes', 'resembles')\n",
      "('releses', 'releases')\n",
      "('curcuit', 'circuit')\n",
      "('valuble', 'valuable')\n",
      "('futhermore', 'furthermore')\n",
      "('substracted', 'subtracted')\n",
      "('cincinatti', 'cincinnati')\n",
      "('minerial', 'mineral')\n",
      "('scinece', 'science')\n",
      "('wokring', 'working')\n",
      "('deside', 'decide')\n",
      "('admitedly', 'admittedly')\n",
      "('everthing', 'everything')\n",
      "('rigourous', 'rigorous')\n",
      "('convertables', 'convertibles')\n",
      "('resignement', 'resignment')\n",
      "('surley', 'surely')\n",
      "('undesireable', 'undesirable')\n",
      "('garnison', 'garrison')\n",
      "('alcoholical', 'alcoholic')\n",
      "('sheat', 'cheat')\n",
      "('conciously', 'consciously')\n",
      "('proclamed', 'proclaimed')\n",
      "('negociate', 'negotiate')\n",
      "('phillipine', 'philippine')\n",
      "('originaly', 'originally')\n",
      "('excellance', 'excellence')\n",
      "('particually', 'particularly')\n",
      "('porshon', 'portion')\n",
      "('alusion', 'allusion')\n",
      "('inbalanced', 'imbalanced')\n",
      "('sherif', 'sheriff')\n",
      "('qutie', 'quiet')\n",
      "('erested', 'arrested')\n",
      "('foucs', 'focus')\n",
      "('directoty', 'directory')\n",
      "('sattelites', 'satellites')\n",
      "('conveinent', 'convenient')\n",
      "('persan', 'person')\n",
      "('calulated', 'calculated')\n",
      "('napoleonian', 'napoleonic')\n",
      "('reccommending', 'recommending')\n",
      "('discribing', 'describing')\n",
      "('abilties', 'abilities')\n",
      "('spriritual', 'spiritual')\n",
      "('reacing', 'reaching')\n",
      "('decideable', 'decidable')\n",
      "('predicatble', 'predictable')\n",
      "('negociation', 'negotiation')\n",
      "('cacuses', 'caucuses')\n",
      "('historicians', 'historians')\n",
      "('inpeach', 'impeach')\n",
      "('cemetaries', 'cemeteries')\n",
      "('grafitti', 'graffiti')\n",
      "('konw', 'know')\n",
      "('fullfill', 'fulfill')\n",
      "('concider', 'consider')\n",
      "('appropropiate', 'appropriate')\n",
      "('tolkein', 'tolkien')\n",
      "('beween', 'between')\n",
      "('fucntioning', 'functioning')\n",
      "('halarious', 'hilarious')\n",
      "('legitamate', 'legitimate')\n",
      "('censur', 'censor')\n",
      "('unfourtunately', 'unfortunately')\n",
      "('endevors', 'endeavors')\n",
      "('ganster', 'gangster')\n",
      "('accoustic', 'acoustic')\n",
      "('eraticly', 'erratically')\n",
      "('intial', 'initial')\n",
      "('decendant', 'descendant')\n",
      "('manouverable', 'manoeuvrable')\n",
      "('completelyl', 'completely')\n",
      "('predicitons', 'predictions')\n",
      "('finacial', 'financial')\n",
      "('abscence', 'absence')\n",
      "('billingualism', 'bilingualism')\n",
      "('quarantaine', 'quarantine')\n",
      "('practioners', 'practitioners')\n",
      "('repblicans', 'republicans')\n",
      "('appenines', 'apennines')\n",
      "('proceding', 'proceeding')\n",
      "('forbiden', 'forbidden')\n",
      "('mispell', 'misspell')\n",
      "('consolodate', 'consolidate')\n",
      "('attaindre', 'attained')\n",
      "('architectual', 'architectural')\n",
      "('achived', 'achieved')\n",
      "('recievers', 'receivers')\n",
      "('refereneces', 'references')\n",
      "('recomended', 'recommended')\n",
      "('boundry', 'boundary')\n",
      "('repubicans', 'republicans')\n",
      "('bradcast', 'broadcast')\n",
      "('foundary', 'foundry')\n",
      "('negociations', 'negotiations')\n",
      "('ommited', 'omitted')\n",
      "('heirarchy', 'hierarchy')\n",
      "('wtih', 'with')\n",
      "('messanger', 'messenger')\n",
      "('conquerer', 'conqueror')\n",
      "('dissapeared', 'disappeared')\n",
      "('enthusiatic', 'enthusiastic')\n",
      "('develpment', 'development')\n",
      "('airporta', 'airports')\n",
      "('surreptiously', 'surreptitiously')\n",
      "('forbad', 'forbade')\n",
      "('pharoah', 'pharaoh')\n",
      "('compatiable', 'compatible')\n",
      "('delerious', 'delirious')\n",
      "('sysmatically', 'systematically')\n",
      "('jouney', 'journey')\n",
      "('unsucessful', 'unsuccessful')\n",
      "('exinct', 'extinct')\n",
      "('entrepeneurs', 'entrepreneurs')\n",
      "('stlye', 'style')\n",
      "('wnats', 'wants')\n",
      "('foriegn', 'foreign')\n",
      "('yementite', 'yemenite')\n",
      "('guarentees', 'guarantees')\n",
      "('spects', 'aspects')\n",
      "('existance', 'existence')\n",
      "('discribes', 'describes')\n",
      "('decribe', 'describe')\n",
      "('inclreased', 'increased')\n",
      "('competative', 'competitive')\n",
      "('comiting', 'committing')\n",
      "('greatful', 'grateful')\n",
      "('succesfuly', 'successfully')\n",
      "('metalic', 'metallic')\n",
      "('agregates', 'aggregates')\n",
      "('decieved', 'deceived')\n",
      "('auxilary', 'auxiliary')\n",
      "('harrassed', 'harassed')\n",
      "('intented', 'indented')\n",
      "('ammused', 'amused')\n",
      "('aledge', 'allege')\n",
      "('whlch', 'which')\n",
      "('dammage', 'damage')\n",
      "('unnecesary', 'unnecessary')\n",
      "('piblisher', 'publisher')\n",
      "('nmae', 'name')\n",
      "('simplier', 'simpler')\n",
      "('mutiliated', 'mutilated')\n",
      "('attaindre', 'attainder')\n",
      "('embarassed', 'embarrassed')\n",
      "('tjpanishad', 'upanishad')\n",
      "('convertion', 'conversion')\n",
      "('compitent', 'competent')\n",
      "('predecesors', 'predecessors')\n",
      "('captial', 'capital')\n",
      "('scavanged', 'scavenged')\n",
      "('ficticious', 'fictitious')\n",
      "('liesure', 'leisure')\n",
      "('agaisnt', 'against')\n",
      "('esitmated', 'estimated')\n",
      "('interchangably', 'interchangeably')\n",
      "('metalurgical', 'metallurgical')\n",
      "('exmaple', 'example')\n",
      "('computarized', 'computerized')\n",
      "('reveral', 'reversal')\n",
      "('sqaure', 'square')\n",
      "('aquire', 'acquire')\n",
      "('intelectual', 'intellectual')\n",
      "('substancial', 'substantial')\n",
      "('publisheed', 'published')\n",
      "('preceeds', 'precedes')\n",
      "('artifical', 'artificial')\n",
      "('invertibrates', 'invertebrates')\n",
      "('alcohal', 'alcohol')\n",
      "('stregth', 'strength')\n",
      "('leathal', 'lethal')\n",
      "('cemetary', 'cemetery')\n",
      "('desireable', 'desirable')\n",
      "('montnana', 'montana')\n",
      "('suprised', 'surprised')\n",
      "('manufaturing', 'manufacturing')\n",
      "('vaieties', 'varieties')\n",
      "('gaurentee', 'guarantee')\n",
      "('eveyr', 'every')\n",
      "('confortable', 'comfortable')\n",
      "('meranda', 'miranda')\n",
      "('layed', 'laid')\n",
      "('humer', 'humour')\n",
      "('infallable', 'infallible')\n",
      "('repectively', 'respectively')\n",
      "('consitutional', 'constitutional')\n",
      "('recrod', 'record')\n",
      "('corparate', 'corporate')\n",
      "('senstive', 'sensitive')\n",
      "('accomodated', 'accommodated')\n",
      "('provicial', 'provincial')\n",
      "('devestated', 'devastated')\n",
      "('receeded', 'receded')\n",
      "('levle', 'level')\n",
      "('beaurocratic', 'bureaucratic')\n",
      "('sacrifical', 'sacrificial')\n",
      "('addressess', 'addresses')\n",
      "('seinor', 'senior')\n",
      "('contravercial', 'controversial')\n",
      "('streemlining', 'streamlining')\n",
      "('publsiher', 'publisher')\n",
      "('availablity', 'availability')\n",
      "('yaer', 'year')\n",
      "('occuring', 'occurring')\n",
      "('omre', 'more')\n",
      "('muscician', 'musician')\n",
      "('offical', 'official')\n",
      "('tendancy', 'tendency')\n",
      "('fufill', 'fulfill')\n",
      "('saterdays', 'saturdays')\n",
      "('usefuly', 'usefully')\n",
      "('comitted', 'committed')\n",
      "('persuits', 'pursuits')\n",
      "('troups', 'troops')\n",
      "('gogin', 'going')\n",
      "('oridinarily', 'ordinarily')\n",
      "('principaly', 'principality')\n",
      "('reconaissance', 'reconnaissance')\n",
      "('virutally', 'virtually')\n",
      "('confidentally', 'confidentially')\n",
      "('taxanomic', 'taxonomic')\n",
      "('distingishing', 'distinguishing')\n",
      "('comparitively', 'comparatively')\n",
      "('consitution', 'constitution')\n",
      "('surreptious', 'surreptitious')\n",
      "('alegience', 'allegiance')\n",
      "('compensantion', 'compensation')\n",
      "('doulbe', 'double')\n",
      "('equialent', 'equivalent')\n",
      "('humer', 'humor')\n",
      "('fucntion', 'function')\n",
      "('comandos', 'commandos')\n",
      "('nickle', 'nickel')\n",
      "('nineth', 'ninth')\n",
      "('acustom', 'accustom')\n",
      "('prooved', 'proved')\n",
      "('ansestors', 'ancestors')\n",
      "('strenghten', 'strengthen')\n",
      "('enviroments', 'environments')\n",
      "('adn', 'and')\n",
      "('devide', 'divide')\n",
      "('surprized', 'surprised')\n",
      "('swiming', 'swimming')\n",
      "('broacasted', 'broadcast')\n",
      "('millioniare', 'millionaire')\n",
      "('beautyfull', 'beautiful')\n",
      "('regularily', 'regularly')\n",
      "('prouncements', 'pronouncements')\n",
      "('repulic', 'republic')\n",
      "('emprisoned', 'imprisoned')\n",
      "('acceptence', 'acceptance')\n",
      "('constarnation', 'consternation')\n",
      "('hten', 'hen')\n",
      "('aquaduct', 'aqueduct')\n",
      "('parliment', 'parliament')\n",
      "('guarenteed', 'guaranteed')\n",
      "('proseletyzing', 'proselytizing')\n",
      "('unoffical', 'unofficial')\n",
      "('exibitions', 'exhibitions')\n",
      "('catergorized', 'categorized')\n",
      "('represantative', 'representative')\n",
      "('gae', 'game')\n",
      "('permenant', 'permanent')\n",
      "('indespensible', 'indispensable')\n",
      "('agriculure', 'agriculture')\n",
      "('rhythem', 'rhythm')\n",
      "('allign', 'align')\n",
      "('encouraing', 'encouraging')\n",
      "('suposed', 'supposed')\n",
      "('unplease', 'displease')\n",
      "('soverignty', 'sovereignty')\n",
      "('addopt', 'adopt')\n",
      "('tiome', 'tome')\n",
      "('respectivly', 'respectively')\n",
      "('officialy', 'officially')\n",
      "('reliablity', 'reliability')\n",
      "('acclimitization', 'acclimatization')\n",
      "('varing', 'varying')\n",
      "('basicly', 'basically')\n",
      "('informtion', 'information')\n",
      "('substituded', 'substituted')\n",
      "('forseeable', 'foreseeable')\n",
      "('pususading', 'persuading')\n",
      "('htere', 'here')\n",
      "('publishher', 'publisher')\n",
      "('wendsay', 'wednesday')\n",
      "('sucessfully', 'successfully')\n",
      "('liason', 'liaison')\n",
      "('begginer', 'beginner')\n",
      "('clasical', 'classical')\n",
      "('decribed', 'described')\n",
      "('unbeleivable', 'unbelievable')\n",
      "('parrallely', 'parallelly')\n",
      "('definining', 'defining')\n",
      "('extrememly', 'extremely')\n",
      "('unwarrented', 'unwarranted')\n",
      "('repeteadly', 'repeatedly')\n",
      "('rewriet', 'rewrite')\n",
      "('succceeded', 'succeeded')\n",
      "('charactor', 'character')\n",
      "('planation', 'plantation')\n",
      "('queenland', 'queensland')\n",
      "('disapointing', 'disappointing')\n",
      "('asside', 'aside')\n",
      "('provinicial', 'provincial')\n",
      "('instuments', 'instruments')\n",
      "('acheivment', 'achievement')\n",
      "('pattented', 'patented')\n",
      "('retalitated', 'retaliated')\n",
      "('imaginery', 'imagery')\n",
      "('provisonal', 'provisional')\n",
      "('morisette', 'morissette')\n",
      "('occaison', 'occasion')\n",
      "('ouevre', 'oeuvre')\n",
      "('contaiminate', 'contaminate')\n",
      "('unsuccesfully', 'unsuccessfully')\n",
      "('unanymous', 'unanimous')\n",
      "('hsitorians', 'historians')\n",
      "('creedence', 'credence')\n",
      "('popularaty', 'popularity')\n",
      "('neice', 'niece')\n",
      "('establising', 'establishing')\n",
      "('disolved', 'dissolved')\n",
      "('probaly', 'probably')\n",
      "('dipthong', 'diphthong')\n",
      "('alcholic', 'alcoholic')\n",
      "('corrisponding', 'corresponding')\n",
      "('dieties', 'deities')\n",
      "('liuke', 'like')\n",
      "('slighly', 'slightly')\n",
      "('acquaintences', 'acquaintances')\n",
      "('fimilies', 'families')\n",
      "('emmiting', 'emitting')\n",
      "('addional', 'additional')\n",
      "('artice', 'article')\n",
      "('harasment', 'harassment')\n",
      "('ministery', 'ministry')\n",
      "('agred', 'agreed')\n",
      "('dissapearance', 'disappearance')\n",
      "('guiness', 'guinness')\n",
      "('surprizingly', 'surprisingly')\n"
     ]
    }
   ],
   "source": [
    "for i in range(len(misspell_subset)):\n",
    "    print (misspell_subset[i],correct_subset[i])"
   ]
  }
 ],
 "metadata": {
  "kernelspec": {
   "display_name": "Python 2",
   "language": "python",
   "name": "python2"
  },
  "language_info": {
   "codemirror_mode": {
    "name": "ipython",
    "version": 2
   },
   "file_extension": ".py",
   "mimetype": "text/x-python",
   "name": "python",
   "nbconvert_exporter": "python",
   "pygments_lexer": "ipython2",
   "version": "2.7.15"
  }
 },
 "nbformat": 4,
 "nbformat_minor": 2
}
