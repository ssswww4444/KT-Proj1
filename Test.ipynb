{
 "cells": [
  {
   "cell_type": "code",
   "execution_count": 27,
   "metadata": {},
   "outputs": [],
   "source": [
    "import numpy as np\n",
    "from weighted_levenshtein import lev"
   ]
  },
  {
   "cell_type": "code",
   "execution_count": 3,
   "metadata": {},
   "outputs": [],
   "source": [
    "delete_costs = np.ones(128, dtype=np.float64)*0.5  # set deletion cost to 0.5"
   ]
  },
  {
   "cell_type": "code",
   "execution_count": 9,
   "metadata": {},
   "outputs": [],
   "source": [
    "def readfile(filename):\n",
    "    f = open(filename, \"r\")\n",
    "    lines = f.readlines()\n",
    "    ls = []\n",
    "    for line in lines:\n",
    "        ls.append(line.strip())\n",
    "    f.close()\n",
    "    return ls"
   ]
  },
  {
   "cell_type": "code",
   "execution_count": 11,
   "metadata": {},
   "outputs": [],
   "source": [
    "dictionary = readfile(\"dict.txt\")"
   ]
  },
  {
   "cell_type": "code",
   "execution_count": 6,
   "metadata": {},
   "outputs": [],
   "source": [
    "misspell_ls = np.load(\"misspelled_sample.npy\")"
   ]
  },
  {
   "cell_type": "code",
   "execution_count": 15,
   "metadata": {},
   "outputs": [],
   "source": [
    "levenshtein_delete_dict = {}"
   ]
  },
  {
   "cell_type": "code",
   "execution_count": 16,
   "metadata": {},
   "outputs": [],
   "source": [
    "for word1 in misspell_ls:\n",
    "    if word1 not in levenshtein_delete_dict:\n",
    "        min_dist = lev(word1,dictionary[0], delete_costs=delete_costs)\n",
    "        word1_list = [dictionary[0]]\n",
    "        for word2 in dictionary:\n",
    "            distance = lev(word1,word2, delete_costs=delete_costs)\n",
    "            if distance < min_dist:\n",
    "                min_dist = distance\n",
    "                word1_list = [word2]\n",
    "            elif distance == min_dist:\n",
    "                word1_list.append(word2)\n",
    "        levenshtein_delete_dict[word1] = word1_list"
   ]
  },
  {
   "cell_type": "code",
   "execution_count": 17,
   "metadata": {},
   "outputs": [
    {
     "name": "stdout",
     "output_type": "stream",
     "text": [
      "984\n"
     ]
    }
   ],
   "source": [
    "print len(levenshtein_delete_dict.keys())"
   ]
  },
  {
   "cell_type": "code",
   "execution_count": 18,
   "metadata": {},
   "outputs": [],
   "source": [
    "np.save('levenshtein_delete_results.npy', levenshtein_delete_dict) "
   ]
  },
  {
   "cell_type": "code",
   "execution_count": null,
   "metadata": {},
   "outputs": [],
   "source": []
  },
  {
   "cell_type": "code",
   "execution_count": 38,
   "metadata": {},
   "outputs": [],
   "source": [
    "substitute_costs = np.ones((128, 128), dtype=np.float64)*0.8 # set replace cost to 0.8"
   ]
  },
  {
   "cell_type": "code",
   "execution_count": 39,
   "metadata": {},
   "outputs": [],
   "source": [
    "levenshtein_replace_dict = {}"
   ]
  },
  {
   "cell_type": "code",
   "execution_count": 40,
   "metadata": {},
   "outputs": [],
   "source": [
    "for word1 in misspell_ls:\n",
    "    if word1 not in levenshtein_replace_dict:\n",
    "        min_dist = lev(word1,dictionary[0], substitute_costs=substitute_costs)\n",
    "        word1_list = [dictionary[0]]\n",
    "        for word2 in dictionary:\n",
    "            distance = lev(word1,word2, substitute_costs=substitute_costs)\n",
    "            if distance < min_dist:\n",
    "                min_dist = distance\n",
    "                word1_list = [word2]\n",
    "            elif distance == min_dist:\n",
    "                word1_list.append(word2)\n",
    "        levenshtein_replace_dict[word1] = word1_list"
   ]
  },
  {
   "cell_type": "code",
   "execution_count": 41,
   "metadata": {},
   "outputs": [],
   "source": [
    "np.save('levenshtein_replace_results0.8.npy', levenshtein_replace_dict) "
   ]
  },
  {
   "cell_type": "code",
   "execution_count": null,
   "metadata": {},
   "outputs": [],
   "source": []
  },
  {
   "cell_type": "code",
   "execution_count": 51,
   "metadata": {},
   "outputs": [],
   "source": [
    "insert_costs = np.ones(128, dtype=np.float64)*0.5 # set insert cost to 0.5"
   ]
  },
  {
   "cell_type": "code",
   "execution_count": 52,
   "metadata": {},
   "outputs": [],
   "source": [
    "levenshtein_insert_dict = {}"
   ]
  },
  {
   "cell_type": "code",
   "execution_count": null,
   "metadata": {},
   "outputs": [],
   "source": [
    "for word1 in misspell_ls:\n",
    "    if word1 not in levenshtein_insert_dict:\n",
    "        min_dist = lev(word1,dictionary[0], insert_costs=insert_costs)\n",
    "        word1_list = [dictionary[0]]\n",
    "        for word2 in dictionary:\n",
    "            distance = lev(word1,word2, insert_costs=insert_costs)\n",
    "            if distance < min_dist:\n",
    "                min_dist = distance\n",
    "                word1_list = [word2]\n",
    "            elif distance == min_dist:\n",
    "                word1_list.append(word2)\n",
    "        levenshtein_replace_dict[word1] = word1_list"
   ]
  },
  {
   "cell_type": "code",
   "execution_count": null,
   "metadata": {},
   "outputs": [],
   "source": []
  }
 ],
 "metadata": {
  "kernelspec": {
   "display_name": "Python 2",
   "language": "python",
   "name": "python2"
  },
  "language_info": {
   "codemirror_mode": {
    "name": "ipython",
    "version": 2
   },
   "file_extension": ".py",
   "mimetype": "text/x-python",
   "name": "python",
   "nbconvert_exporter": "python",
   "pygments_lexer": "ipython2",
   "version": "2.7.15"
  }
 },
 "nbformat": 4,
 "nbformat_minor": 2
}
