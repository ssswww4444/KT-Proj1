{
 "cells": [
  {
   "cell_type": "markdown",
   "metadata": {},
   "source": [
    "Import the required modules."
   ]
  },
  {
   "cell_type": "code",
   "execution_count": 2,
   "metadata": {},
   "outputs": [],
   "source": [
    "import re\n",
    "import numpy as np\n",
    "import editdistance\n",
    "from ngram import NGram as ngram"
   ]
  },
  {
   "cell_type": "markdown",
   "metadata": {},
   "source": [
    "Read all files and store into lists."
   ]
  },
  {
   "cell_type": "code",
   "execution_count": 3,
   "metadata": {},
   "outputs": [],
   "source": [
    "def readfile(filename):\n",
    "    f = open(filename, \"r\")\n",
    "    lines = f.readlines()\n",
    "    ls = []\n",
    "    for line in lines:\n",
    "        ls.append(line.strip())\n",
    "    f.close()\n",
    "    return ls\n",
    "\n",
    "dict_ls = readfile(\"dict.txt\")\n",
    "wiki_correct_ls = readfile(\"wiki_correct.txt\")\n",
    "wiki_misspell_ls = readfile(\"wiki_misspell.txt\")\n",
    "birkbeck_correct_ls = readfile(\"birkbeck_correct.txt\")\n",
    "birkbeck_misspell_ls = readfile(\"birkbeck_misspell.txt\")"
   ]
  },
  {
   "cell_type": "markdown",
   "metadata": {},
   "source": [
    "Find the best match for the word in dictionary according to the global edit distance."
   ]
  },
  {
   "cell_type": "code",
   "execution_count": 4,
   "metadata": {},
   "outputs": [],
   "source": [
    "def best_match_edit_distance(target):\n",
    "    # init best matches\n",
    "    min_dist = editdistance.eval(target,dict_ls[0])\n",
    "    best_matches = [dict_ls[0]]\n",
    "    \n",
    "    for word in dict_ls[1:]:\n",
    "        if abs(len(word) - len(target)) > min_dist:  # not possible to be min_dist, skip\n",
    "            continue\n",
    "        dist = editdistance.eval(target,word)  # cal global edit distance\n",
    "        # replace if shorter distance\n",
    "        if dist < min_dist:\n",
    "            min_dist = dist\n",
    "            best_matches = [word]\n",
    "        elif dist == min_dist:\n",
    "            best_matches.append(word)\n",
    "    \n",
    "    return best_matches"
   ]
  },
  {
   "cell_type": "markdown",
   "metadata": {},
   "source": [
    "Find the best matches for the words in wiki data sets. "
   ]
  },
  {
   "cell_type": "code",
   "execution_count": 7,
   "metadata": {},
   "outputs": [],
   "source": [
    "wiki_correction_dict = {}\n",
    "for word in wiki_misspell_ls[:500]:\n",
    "    if word not in wiki_correction_dict:\n",
    "        wiki_correction_dict[word] = best_match_edit_distance(word)"
   ]
  },
  {
   "cell_type": "code",
   "execution_count": 8,
   "metadata": {},
   "outputs": [],
   "source": [
    "def check_precision_recall(mispelled, correct):\n",
    "    tp = 0\n",
    "    fp = 0\n",
    "    fn = 0\n",
    "    correction = wiki_correction_dict[mispelled]\n",
    "    \n",
    "    if correct in correction:\n",
    "        tp += 1\n",
    "        fp += len(correction) - 1\n",
    "    else:\n",
    "        fn += 1  # miss\n",
    "        fp += len(correction)\n",
    "    \n",
    "    precision = tp / (tp + fp)\n",
    "    recall = tp / (tp + fn)\n",
    "    \n",
    "    return precision,recall"
   ]
  },
  {
   "cell_type": "code",
   "execution_count": 12,
   "metadata": {},
   "outputs": [
    {
     "name": "stdout",
     "output_type": "stream",
     "text": [
      "441\n",
      "825\n",
      "59\n",
      "precision: 0\n",
      "recall: 0\n"
     ]
    }
   ],
   "source": [
    "tp = 0\n",
    "fp = 0\n",
    "fn = 0\n",
    "\n",
    "for i in range(500):\n",
    "    word = wiki_misspell_ls[i]\n",
    "    correction = wiki_correction_dict[word]\n",
    "    \n",
    "    if wiki_correct_ls[i] in correction:\n",
    "        tp += 1\n",
    "        fp += len(correction) - 1\n",
    "    else:\n",
    "        fn += 1  # miss\n",
    "        fp += len(correction)\n",
    "        \n",
    "precision = tp / (tp + fp)\n",
    "recall = tp / (tp + fn)\n",
    "\n",
    "print \"precision: \" + str(precision)\n",
    "print \"recall: \" + str(recall)\n",
    "    "
   ]
  },
  {
   "cell_type": "code",
   "execution_count": null,
   "metadata": {},
   "outputs": [],
   "source": []
  }
 ],
 "metadata": {
  "kernelspec": {
   "display_name": "Python 2",
   "language": "python",
   "name": "python2"
  },
  "language_info": {
   "codemirror_mode": {
    "name": "ipython",
    "version": 2
   },
   "file_extension": ".py",
   "mimetype": "text/x-python",
   "name": "python",
   "nbconvert_exporter": "python",
   "pygments_lexer": "ipython2",
   "version": "2.7.15"
  }
 },
 "nbformat": 4,
 "nbformat_minor": 2
}
